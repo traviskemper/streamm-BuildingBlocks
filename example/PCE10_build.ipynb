{
 "cells": [
  {
   "cell_type": "code",
   "execution_count": 43,
   "metadata": {
    "collapsed": true
   },
   "outputs": [],
   "source": [
    "import os,sys,copy\n",
    "from  streamm import buildingblock\n",
    "import pandas as pd"
   ]
  },
  {
   "cell_type": "markdown",
   "metadata": {},
   "source": [
    "Read in cply files of building blocks"
   ]
  },
  {
   "cell_type": "code",
   "execution_count": 2,
   "metadata": {
    "collapsed": true
   },
   "outputs": [],
   "source": [
    "os.chdir('../donors')"
   ]
  },
  {
   "cell_type": "code",
   "execution_count": 5,
   "metadata": {
    "collapsed": true
   },
   "outputs": [],
   "source": [
    "BDTTT = buildingblock.Container('BDTTT')"
   ]
  },
  {
   "cell_type": "code",
   "execution_count": 6,
   "metadata": {
    "collapsed": false
   },
   "outputs": [],
   "source": [
    "BDTTT.read_cply()"
   ]
  },
  {
   "cell_type": "code",
   "execution_count": 7,
   "metadata": {
    "collapsed": true
   },
   "outputs": [],
   "source": [
    "os.chdir('../acceptors')"
   ]
  },
  {
   "cell_type": "code",
   "execution_count": 8,
   "metadata": {
    "collapsed": true
   },
   "outputs": [],
   "source": [
    "TTF = buildingblock.Container('TTF')\n",
    "TTF.read_cply()"
   ]
  },
  {
   "cell_type": "code",
   "execution_count": 10,
   "metadata": {
    "collapsed": true
   },
   "outputs": [],
   "source": [
    "os.chdir('../functional_groups')"
   ]
  },
  {
   "cell_type": "code",
   "execution_count": 11,
   "metadata": {
    "collapsed": true
   },
   "outputs": [],
   "source": [
    "EthHex = buildingblock.Container('EthHex')\n",
    "EthHex.read_cply()"
   ]
  },
  {
   "cell_type": "code",
   "execution_count": 12,
   "metadata": {
    "collapsed": true
   },
   "outputs": [],
   "source": [
    "Ester = buildingblock.Container('Ester')\n",
    "Ester.read_cply()"
   ]
  },
  {
   "cell_type": "markdown",
   "metadata": {},
   "source": [
    "First attach functionalize TTF with an Ester group"
   ]
  },
  {
   "cell_type": "code",
   "execution_count": 14,
   "metadata": {
    "collapsed": true
   },
   "outputs": [],
   "source": [
    "os.chdir('../example')"
   ]
  },
  {
   "cell_type": "markdown",
   "metadata": {},
   "source": [
    "Find the attaching H and sum the charge on to the carbon"
   ]
  },
  {
   "cell_type": "code",
   "execution_count": 15,
   "metadata": {
    "collapsed": true
   },
   "outputs": [],
   "source": [
    "# Find the C-H where H has the bbid R at position 1 \n",
    "Rkey_i,Xkey_i = Ester.find_XR(\"R\",1,0)"
   ]
  },
  {
   "cell_type": "code",
   "execution_count": 17,
   "metadata": {
    "collapsed": false
   },
   "outputs": [
    {
     "name": "stdout",
     "output_type": "stream",
     "text": [
      "H 0.06\n",
      "C 0.38\n"
     ]
    }
   ],
   "source": [
    "print Ester.particles[Rkey_i].properties['symbol'],Ester.particles[Rkey_i].properties['charge'] \n",
    "print Ester.particles[Xkey_i].properties['symbol'],Ester.particles[Xkey_i].properties['charge'] "
   ]
  },
  {
   "cell_type": "code",
   "execution_count": 18,
   "metadata": {
    "collapsed": true
   },
   "outputs": [],
   "source": [
    "Ester.particles[Xkey_i].properties['charge'] += Ester.particles[Rkey_i].properties['charge'] "
   ]
  },
  {
   "cell_type": "code",
   "execution_count": 20,
   "metadata": {
    "collapsed": true
   },
   "outputs": [],
   "source": [
    "Ester.particles[Rkey_i].properties['charge']  = 0.0"
   ]
  },
  {
   "cell_type": "code",
   "execution_count": 21,
   "metadata": {
    "collapsed": false
   },
   "outputs": [
    {
     "name": "stdout",
     "output_type": "stream",
     "text": [
      "H 0.0\n",
      "C 0.44\n"
     ]
    }
   ],
   "source": [
    "print Ester.particles[Rkey_i].properties['symbol'],Ester.particles[Rkey_i].properties['charge'] \n",
    "print Ester.particles[Xkey_i].properties['symbol'],Ester.particles[Xkey_i].properties['charge'] "
   ]
  },
  {
   "cell_type": "markdown",
   "metadata": {},
   "source": [
    "Do the sam for the TTF "
   ]
  },
  {
   "cell_type": "code",
   "execution_count": 15,
   "metadata": {
    "collapsed": true
   },
   "outputs": [],
   "source": [
    "# Find the C-H where H has the bbid R at position 0 \n",
    "Rkey_i,Xkey_i = TTF.find_XR(\"R\",0,0)"
   ]
  },
  {
   "cell_type": "code",
   "execution_count": 22,
   "metadata": {
    "collapsed": false
   },
   "outputs": [
    {
     "name": "stdout",
     "output_type": "stream",
     "text": [
      "H 0.0\n",
      "C 0.0\n"
     ]
    }
   ],
   "source": [
    "print TTF.particles[Rkey_i].properties['symbol'],TTF.particles[Rkey_i].properties['charge'] \n",
    "print TTF.particles[Xkey_i].properties['symbol'],TTF.particles[Xkey_i].properties['charge'] "
   ]
  },
  {
   "cell_type": "code",
   "execution_count": 23,
   "metadata": {
    "collapsed": true
   },
   "outputs": [],
   "source": [
    "TTF.particles[Xkey_i].properties['charge'] += TTF.particles[Rkey_i].properties['charge'] \n",
    "TTF.particles[Rkey_i].properties['charge']  = 0.0"
   ]
  },
  {
   "cell_type": "code",
   "execution_count": 24,
   "metadata": {
    "collapsed": false
   },
   "outputs": [
    {
     "name": "stdout",
     "output_type": "stream",
     "text": [
      "H 0.0\n",
      "C 0.0\n"
     ]
    }
   ],
   "source": [
    "print TTF.particles[Rkey_i].properties['symbol'],TTF.particles[Rkey_i].properties['charge'] \n",
    "print TTF.particles[Xkey_i].properties['symbol'],TTF.particles[Xkey_i].properties['charge'] "
   ]
  },
  {
   "cell_type": "markdown",
   "metadata": {},
   "source": [
    "Preform attachment "
   ]
  },
  {
   "cell_type": "code",
   "execution_count": 25,
   "metadata": {
    "collapsed": true
   },
   "outputs": [],
   "source": [
    "TTF_Ester = buildingblock.attach(TTF,Ester,\"R\",0,\"R\",1)"
   ]
  },
  {
   "cell_type": "code",
   "execution_count": 27,
   "metadata": {
    "collapsed": false
   },
   "outputs": [],
   "source": [
    "TTF_Ester.write_xyz()"
   ]
  },
  {
   "cell_type": "code",
   "execution_count": 28,
   "metadata": {
    "collapsed": true
   },
   "outputs": [],
   "source": [
    "TTF_Ester.write_cply()"
   ]
  },
  {
   "cell_type": "markdown",
   "metadata": {},
   "source": [
    "Then attach the BDTTT to the TTF to make the DA repeat unit "
   ]
  },
  {
   "cell_type": "code",
   "execution_count": 29,
   "metadata": {
    "collapsed": true
   },
   "outputs": [],
   "source": [
    "# Find the C-H where H has the bbid R at position 0 \n",
    "Rkey_i,Xkey_i = BDTTT.find_XR(\"T\",0,0)"
   ]
  },
  {
   "cell_type": "code",
   "execution_count": 30,
   "metadata": {
    "collapsed": true
   },
   "outputs": [],
   "source": [
    "# Sum the charges on the attaching carbon\n",
    "BDTTT.particles[Xkey_i].properties['charge'] += BDTTT.particles[Rkey_i].properties['charge'] \n",
    "BDTTT.particles[Rkey_i].properties['charge']  = 0.0"
   ]
  },
  {
   "cell_type": "code",
   "execution_count": 31,
   "metadata": {
    "collapsed": true
   },
   "outputs": [],
   "source": [
    "# Change fftype to C! \n",
    "BDTTT.particles[Xkey_i].properties['fftype'] = 'C!'"
   ]
  },
  {
   "cell_type": "code",
   "execution_count": null,
   "metadata": {
    "collapsed": true
   },
   "outputs": [],
   "source": []
  },
  {
   "cell_type": "code",
   "execution_count": 32,
   "metadata": {
    "collapsed": true
   },
   "outputs": [],
   "source": [
    "# Find the C-H where H has the bbid R at position 1\n",
    "Rkey_i,Xkey_i = TTF_Ester.find_XR(\"T\",1,0)"
   ]
  },
  {
   "cell_type": "code",
   "execution_count": 33,
   "metadata": {
    "collapsed": true
   },
   "outputs": [],
   "source": [
    "# Sum the charges on the attaching carbon\n",
    "TTF_Ester.particles[Xkey_i].properties['charge'] += TTF_Ester.particles[Rkey_i].properties['charge'] \n",
    "TTF_Ester.particles[Rkey_i].properties['charge']  = 0.0"
   ]
  },
  {
   "cell_type": "code",
   "execution_count": 34,
   "metadata": {
    "collapsed": true
   },
   "outputs": [],
   "source": [
    "# Change fftype to C! \n",
    "TTF_Ester.particles[Xkey_i].properties['fftype'] = 'C!'"
   ]
  },
  {
   "cell_type": "code",
   "execution_count": 35,
   "metadata": {
    "collapsed": true
   },
   "outputs": [],
   "source": [
    "BDTTTT_TTF_Ester = buildingblock.attach(BDTTT,TTF_Ester,\"T\",0,\"T\",1)"
   ]
  },
  {
   "cell_type": "code",
   "execution_count": 36,
   "metadata": {
    "collapsed": true
   },
   "outputs": [],
   "source": [
    "BDTTTT_TTF_Ester.write_xyz()"
   ]
  },
  {
   "cell_type": "code",
   "execution_count": 37,
   "metadata": {
    "collapsed": true
   },
   "outputs": [],
   "source": [
    "BDTTTT_TTF_Ester.write_cply()"
   ]
  },
  {
   "cell_type": "markdown",
   "metadata": {},
   "source": [
    "This is the repeat unit without alkyl groups and the ESP charges of this unit can be calculated with Gaussian"
   ]
  },
  {
   "cell_type": "markdown",
   "metadata": {},
   "source": [
    "Now sum the charges of the Ethyl Hexyl on the attaching carbon"
   ]
  },
  {
   "cell_type": "code",
   "execution_count": 39,
   "metadata": {
    "collapsed": true
   },
   "outputs": [],
   "source": [
    "# Find the C-H where H has the bbid R at position 1\n",
    "Rkey_i,Xkey_i = EthHex.find_XR(\"R\",0,0)\n",
    "# Sum the charges on the attaching carbon\n",
    "EthHex.particles[Xkey_i].properties['charge'] += EthHex.particles[Rkey_i].properties['charge'] \n",
    "EthHex.particles[Rkey_i].properties['charge']  = 0.0"
   ]
  },
  {
   "cell_type": "code",
   "execution_count": 41,
   "metadata": {
    "collapsed": false
   },
   "outputs": [
    {
     "name": "stdout",
     "output_type": "stream",
     "text": [
      "0.0\n"
     ]
    }
   ],
   "source": [
    "# Check the total charge \n",
    "t_q = 0.0 \n",
    "for k,p in EthHex.particles.iteritems():\n",
    "    t_q += p.properties['charge']\n",
    "print t_q"
   ]
  },
  {
   "cell_type": "markdown",
   "metadata": {},
   "source": [
    "Attach Ethyl hexyl groups to the three \"R\" attach points of the BDTTTT_TTF_Ester.\n",
    "\n",
    "The position number is always 0 since the attach point is deleted when an attach is made"
   ]
  },
  {
   "cell_type": "code",
   "execution_count": 54,
   "metadata": {
    "collapsed": true
   },
   "outputs": [],
   "source": [
    "bb_i = copy.deepcopy(BDTTTT_TTF_Ester)\n",
    "bb_j = copy.deepcopy(EthHex)"
   ]
  },
  {
   "cell_type": "code",
   "execution_count": 55,
   "metadata": {
    "collapsed": false
   },
   "outputs": [],
   "source": [
    "bb_i = buildingblock.attach(bb_i,bb_j,\"R\",0,\"R\",0)"
   ]
  },
  {
   "cell_type": "code",
   "execution_count": 58,
   "metadata": {
    "collapsed": false
   },
   "outputs": [],
   "source": [
    "bb_j = copy.deepcopy(EthHex)\n",
    "bb_i = buildingblock.attach(bb_i,bb_j,\"R\",0,\"R\",0)"
   ]
  },
  {
   "cell_type": "code",
   "execution_count": 60,
   "metadata": {
    "collapsed": false
   },
   "outputs": [],
   "source": [
    "bb_j = copy.deepcopy(EthHex)\n",
    "bb_i = buildingblock.attach(bb_i,bb_j,\"R\",0,\"R\",0)"
   ]
  },
  {
   "cell_type": "code",
   "execution_count": 69,
   "metadata": {
    "collapsed": true
   },
   "outputs": [],
   "source": [
    "PCE10_n1 = copy.deepcopy(bb_i)"
   ]
  },
  {
   "cell_type": "code",
   "execution_count": 70,
   "metadata": {
    "collapsed": true
   },
   "outputs": [],
   "source": [
    "PCE10_n1.tag = 'PCE10_n1'\n",
    "\n",
    "PCE10_n1.write_xyz()\n",
    "PCE10_n1.write_cply()"
   ]
  },
  {
   "cell_type": "code",
   "execution_count": 72,
   "metadata": {
    "collapsed": true
   },
   "outputs": [],
   "source": [
    "del bb_i,bb_j"
   ]
  },
  {
   "cell_type": "markdown",
   "metadata": {},
   "source": [
    "Now an oligomer of length n can be made from the repeat unit"
   ]
  },
  {
   "cell_type": "code",
   "execution_count": 85,
   "metadata": {
    "collapsed": true
   },
   "outputs": [],
   "source": [
    "n= 5"
   ]
  },
  {
   "cell_type": "code",
   "execution_count": 87,
   "metadata": {
    "collapsed": true
   },
   "outputs": [],
   "source": [
    "bb_ij = copy.deepcopy(PCE10_n1)"
   ]
  },
  {
   "cell_type": "code",
   "execution_count": 88,
   "metadata": {
    "collapsed": true
   },
   "outputs": [],
   "source": [
    "for n_i in range(n):\n",
    "    bb_i = copy.deepcopy(bb_ij)\n",
    "    # Find the C-H where H has the bbid R at position 0\n",
    "    Rkey_i,Xkey_i = bb_i.find_XR(\"T\",0,0)\n",
    "    # Sum the charges on the attaching carbon\n",
    "    bb_i.particles[Xkey_i].properties['charge'] += bb_i.particles[Rkey_i].properties['charge'] \n",
    "    bb_i.particles[Rkey_i].properties['charge']  = 0.0\n",
    "    # Change fftype to C! \n",
    "    bb_i.particles[Xkey_i].properties['fftype'] = 'C!'\n",
    "\n",
    "    bb_j = copy.deepcopy(PCE10_n1)\n",
    "    # Find the C-H where H has the bbid R at position 1\n",
    "    Rkey_j,Xkey_j = bb_j.find_XR(\"T\",1,0)\n",
    "    # Sum the charges on the attaching carbon\n",
    "    bb_j.particles[Xkey_j].properties['charge'] += bb_j.particles[Rkey_j].properties['charge'] \n",
    "    bb_j.particles[Rkey_j].properties['charge']  = 0.0\n",
    "    # Change fftype to C! \n",
    "    bb_j.particles[Xkey_j].properties['fftype'] = 'C!'\n",
    "\n",
    "    bb_ij =  buildingblock.attach(bb_i,bb_j,\"T\",0,\"T\",1)"
   ]
  },
  {
   "cell_type": "code",
   "execution_count": 90,
   "metadata": {
    "collapsed": true
   },
   "outputs": [],
   "source": [
    "PCE10_nX = copy.deepcopy(bb_ij)"
   ]
  },
  {
   "cell_type": "code",
   "execution_count": 91,
   "metadata": {
    "collapsed": false
   },
   "outputs": [],
   "source": [
    "PCE10_nX.tag = 'PCE10_n%d'%(n)\n",
    "PCE10_nX.write_xyz()\n",
    "PCE10_nX.write_cply()"
   ]
  },
  {
   "cell_type": "code",
   "execution_count": null,
   "metadata": {
    "collapsed": true
   },
   "outputs": [],
   "source": []
  }
 ],
 "metadata": {
  "anaconda-cloud": {},
  "kernelspec": {
   "display_name": "Python [conda root]",
   "language": "python",
   "name": "conda-root-py"
  },
  "language_info": {
   "codemirror_mode": {
    "name": "ipython",
    "version": 2
   },
   "file_extension": ".py",
   "mimetype": "text/x-python",
   "name": "python",
   "nbconvert_exporter": "python",
   "pygments_lexer": "ipython2",
   "version": "2.7.12"
  }
 },
 "nbformat": 4,
 "nbformat_minor": 1
}
